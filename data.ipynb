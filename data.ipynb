{
 "cells": [
  {
   "cell_type": "code",
   "execution_count": 46,
   "metadata": {},
   "outputs": [
    {
     "ename": "ImportError",
     "evalue": "cannot import name 'Ncalibrate_ns_ols' from 'nelson_siegel_svensson' (C:\\Users\\Imana\\AppData\\Local\\Packages\\PythonSoftwareFoundation.Python.3.10_qbz5n2kfra8p0\\LocalCache\\local-packages\\Python310\\site-packages\\nelson_siegel_svensson\\__init__.py)",
     "output_type": "error",
     "traceback": [
      "\u001b[1;31m---------------------------------------------------------------------------\u001b[0m",
      "\u001b[1;31mImportError\u001b[0m                               Traceback (most recent call last)",
      "\u001b[1;32mc:\\Users\\Imana\\Desktop\\L3SRI\\essaie.ipynb Cell 1\u001b[0m line \u001b[0;36m8\n\u001b[0;32m      <a href='vscode-notebook-cell:/c%3A/Users/Imana/Desktop/L3SRI/essaie.ipynb#W0sZmlsZQ%3D%3D?line=5'>6</a>\u001b[0m \u001b[39mfrom\u001b[39;00m \u001b[39mscipy\u001b[39;00m\u001b[39m.\u001b[39;00m\u001b[39minterpolate\u001b[39;00m \u001b[39mimport\u001b[39;00m interp1d, CubicSpline, UnivariateSpline\n\u001b[0;32m      <a href='vscode-notebook-cell:/c%3A/Users/Imana/Desktop/L3SRI/essaie.ipynb#W0sZmlsZQ%3D%3D?line=6'>7</a>\u001b[0m \u001b[39mfrom\u001b[39;00m \u001b[39mscipy\u001b[39;00m\u001b[39m.\u001b[39;00m\u001b[39moptimize\u001b[39;00m \u001b[39mimport\u001b[39;00m curve_fit\n\u001b[1;32m----> <a href='vscode-notebook-cell:/c%3A/Users/Imana/Desktop/L3SRI/essaie.ipynb#W0sZmlsZQ%3D%3D?line=7'>8</a>\u001b[0m \u001b[39mfrom\u001b[39;00m \u001b[39mnelson_siegel_svensson\u001b[39;00m \u001b[39mimport\u001b[39;00m Ncalibrate_ns_ols\n",
      "\u001b[1;31mImportError\u001b[0m: cannot import name 'Ncalibrate_ns_ols' from 'nelson_siegel_svensson' (C:\\Users\\Imana\\AppData\\Local\\Packages\\PythonSoftwareFoundation.Python.3.10_qbz5n2kfra8p0\\LocalCache\\local-packages\\Python310\\site-packages\\nelson_siegel_svensson\\__init__.py)"
     ]
    }
   ],
   "source": [
    "import requests\n",
    "from bs4 import BeautifulSoup\n",
    "import pandas as pd\n",
    "import numpy as np\n",
    "from scipy import interpolate\n",
    "from scipy.interpolate import interp1d, CubicSpline, UnivariateSpline\n",
    "from scipy.optimize import curve_fit\n",
    "from nelson_siegel_svensson import Ncalibrate_ns_ols"
   ]
  },
  {
   "cell_type": "code",
   "execution_count": 33,
   "metadata": {},
   "outputs": [],
   "source": [
    "def convert_to_days(years):\n",
    "    if 'month' in years:\n",
    "        return int(years.split()[0]) * 30\n",
    "    elif 'year' in years:\n",
    "        return int(years.split()[0]) * 365\n",
    "    else:\n",
    "        return None"
   ]
  },
  {
   "cell_type": "code",
   "execution_count": 34,
   "metadata": {},
   "outputs": [],
   "source": [
    "def convert_to_int(rate):\n",
    "    return float(rate.strip('%'))"
   ]
  },
  {
   "cell_type": "code",
   "execution_count": 39,
   "metadata": {},
   "outputs": [],
   "source": [
    "def linear_interpolation(df):\n",
    "    linear_interp = interp1d(df['maturité(mois)'], df['taux'], kind='linear', fill_value='extrapolate')\n",
    "    return linear_interp"
   ]
  },
  {
   "cell_type": "code",
   "execution_count": null,
   "metadata": {},
   "outputs": [],
   "source": [
    "def cubic_interpolation(df):\n",
    "    df = df.sort_values(by='maturité(mois)')\n",
    "    cubic_interp = interp1d(df['maturité(mois)'], df['taux'], kind='cubic', fill_value='extrapolate')\n",
    "    return cubic_interp"
   ]
  },
  {
   "cell_type": "code",
   "execution_count": 37,
   "metadata": {},
   "outputs": [
    {
     "name": "stdout",
     "output_type": "stream",
     "text": [
      "    maturité(jours)   taux\n",
      "0                30  3.499\n",
      "1                90  3.656\n",
      "2               180  3.790\n",
      "3               270  3.735\n",
      "4               365  3.622\n",
      "5               730  3.444\n",
      "6              1095  3.291\n",
      "7              1460  3.245\n",
      "8              1825  3.240\n",
      "9              2190  3.322\n",
      "10             2555  3.416\n",
      "11             2920  3.491\n",
      "12             3285  3.589\n",
      "13             3650  3.736\n",
      "14             5475  4.003\n",
      "15             7300  4.214\n",
      "16             9125  4.248\n",
      "17            10950  4.317\n"
     ]
    }
   ],
   "source": [
    "def scrapping(country):\n",
    "    url = \"https://www.worldgovernmentbonds.com/country/\"\n",
    "    url = url + country + '/'\n",
    "    response = requests.get(url)\n",
    "    soup = BeautifulSoup(response.text, 'html.parser')\n",
    "\n",
    "    table = soup.find('table', {'class': 'w3-table money pd22 -f14'})\n",
    "\n",
    "    table_data = []\n",
    "\n",
    "    for row in table.find_all('tr'):\n",
    "        cells = row.find_all('td')\n",
    "\n",
    "        if len(cells) >= 2:\n",
    "            maturity = convert_to_days(cells[1].text.strip())\n",
    "            rate = convert_to_int(cells[2].text.strip())\n",
    "            row_data = [maturity, rate]\n",
    "            table_data.append(row_data)\n",
    "\n",
    "    df = pd.DataFrame(table_data, columns=['maturité(jours)', 'taux'])\n",
    "    print(df)\n",
    "\n",
    "country = input(\"quelle pays?(an ang):\")\n",
    "scrapping(country)"
   ]
  },
  {
   "cell_type": "code",
   "execution_count": null,
   "metadata": {},
   "outputs": [],
   "source": []
  }
 ],
 "metadata": {
  "kernelspec": {
   "display_name": "Python 3",
   "language": "python",
   "name": "python3"
  },
  "language_info": {
   "codemirror_mode": {
    "name": "ipython",
    "version": 3
   },
   "file_extension": ".py",
   "mimetype": "text/x-python",
   "name": "python",
   "nbconvert_exporter": "python",
   "pygments_lexer": "ipython3",
   "version": "3.10.11"
  }
 },
 "nbformat": 4,
 "nbformat_minor": 2
}
